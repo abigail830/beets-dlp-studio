{
 "cells": [
  {
   "cell_type": "code",
   "execution_count": 29,
   "metadata": {},
   "outputs": [],
   "source": [
    "import os\n",
    "from PIL import Image\n",
    "import math"
   ]
  },
  {
   "cell_type": "code",
   "execution_count": null,
   "metadata": {},
   "outputs": [],
   "source": []
  },
  {
   "cell_type": "code",
   "execution_count": 30,
   "metadata": {},
   "outputs": [],
   "source": [
    "files = os.listdir()"
   ]
  },
  {
   "cell_type": "code",
   "execution_count": 31,
   "metadata": {
    "scrolled": true
   },
   "outputs": [
    {
     "name": "stdout",
     "output_type": "stream",
     "text": [
      "smallbuttonANIM.png\n",
      "76 76\n",
      "51 51\n",
      "menusubbuttonANIM.png\n",
      "134 133\n",
      "90 89\n",
      "bigbuttonANIM.png\n",
      "150 150\n",
      "100 100\n",
      "wifisetup.png\n",
      "800 400\n",
      "533 266\n",
      "holdscreen.png\n",
      "800 480\n",
      "533 319\n",
      "topbar.png\n",
      "800 40\n",
      "533 26\n",
      "wifisettings.png\n",
      "800 400\n",
      "533 266\n",
      "settings.png\n",
      "800 400\n",
      "533 266\n",
      "printer-midchange.png\n",
      "106 166\n",
      "71 111\n",
      "printdialogue.png\n",
      "800 400\n",
      "533 266\n",
      "printer-off.png\n",
      "106 166\n",
      "71 111\n",
      "newname.png\n",
      "540 324\n",
      "360 216\n",
      "wifi-tiny.png\n",
      "240 20\n",
      "160 13\n",
      "wifi-0.png\n",
      "89 69\n",
      "60 46\n",
      "wifi-nc.png\n",
      "89 69\n",
      "60 46\n",
      "pixel.png\n",
      "1 1\n",
      "1 1\n",
      "wifi-1.png\n",
      "89 69\n",
      "60 46\n",
      "wifi-3.png\n",
      "89 69\n",
      "60 46\n",
      "menumainbuttonANIM.png\n",
      "165 164\n",
      "110 109\n",
      "wifi-2.png\n",
      "89 69\n",
      "60 46\n",
      "resin.png\n",
      "800 400\n",
      "533 266\n",
      "mainmidconnector.png\n",
      "152 8\n",
      "102 5\n",
      "printdialogue-frame.png\n",
      "295 175\n",
      "197 116\n",
      "maintopconnector.png\n",
      "83 35\n",
      "56 23\n",
      "error.png\n",
      "800 400\n",
      "533 266\n",
      "syslog.png\n",
      "800 400\n",
      "533 266\n",
      "homehighlightANIM.png\n",
      "76 76\n",
      "51 51\n",
      "printables.png\n",
      "800 400\n",
      "533 266\n",
      "dropdown.png\n",
      "42 41\n",
      "28 27\n",
      "smallbuttonANIM-blue.png\n",
      "76 76\n",
      "51 51\n",
      "mainbotconnector.png\n",
      "94 63\n",
      "63 42\n",
      "mainmenu.png\n",
      "800 400\n",
      "533 266\n",
      "smallbuttonANIM-red.png\n",
      "76 76\n",
      "51 51\n",
      "wifi-btn.png\n",
      "60 60\n",
      "40 40\n",
      "emptybackground.png\n",
      "800 480\n",
      "533 319\n",
      "maintain.png\n",
      "800 400\n",
      "533 266\n",
      "printer-on.png\n",
      "106 166\n",
      "71 111\n"
     ]
    }
   ],
   "source": [
    "for fn in files:\n",
    "    if fn[-4:] == '.png':\n",
    "        print(fn)\n",
    "        im = Image.open(fn)\n",
    "        rw,rx = im.size\n",
    "        print(rw,rx)\n",
    "        w = math.ceil(rw * 0.666)\n",
    "        im.thumbnail((w,rx))\n",
    "        print(w,im.height)\n",
    "        im.save(fn,'png')\n",
    "        im.close()"
   ]
  },
  {
   "cell_type": "code",
   "execution_count": 16,
   "metadata": {},
   "outputs": [
    {
     "data": {
      "text/plain": [
       "'.png'"
      ]
     },
     "execution_count": 16,
     "metadata": {},
     "output_type": "execute_result"
    }
   ],
   "source": []
  },
  {
   "cell_type": "code",
   "execution_count": null,
   "metadata": {},
   "outputs": [],
   "source": []
  }
 ],
 "metadata": {
  "kernelspec": {
   "display_name": "Python 3",
   "language": "python",
   "name": "python3"
  },
  "language_info": {
   "codemirror_mode": {
    "name": "ipython",
    "version": 3
   },
   "file_extension": ".py",
   "mimetype": "text/x-python",
   "name": "python",
   "nbconvert_exporter": "python",
   "pygments_lexer": "ipython3",
   "version": "3.6.4"
  }
 },
 "nbformat": 4,
 "nbformat_minor": 2
}
